{
 "cells": [
  {
   "cell_type": "markdown",
   "metadata": {},
   "source": [
    "# Assignment"
   ]
  },
  {
   "cell_type": "code",
   "execution_count": 3,
   "metadata": {},
   "outputs": [],
   "source": [
    "pythonlist = ['Ama', 54, 'Kojo', 45.5, 'Yhup', 52, 'Kwame', 96, 'Kwesi', 87, 'Roland', True, 'Nti',\n",
    "             45, 78.5, 'William', 68, 45.3, 78, 'Patty', False, 98, True, 'Adwoa',21, 65, 'Pappy',\n",
    "             14, 'Folly', False, 52, 'Pency']"
   ]
  },
  {
   "cell_type": "markdown",
   "metadata": {},
   "source": [
    "1. create four empty lists:\n",
    "a. Floats\n",
    "b. Ints\n",
    "c. Strings\n",
    "d. Booleans\n"
   ]
  },
  {
   "cell_type": "markdown",
   "metadata": {},
   "source": [
    "\n",
    "2. For each item in the \"pythonlist\", place it in the right set created above.\n",
    "\n",
    "3. For the strings and booleans sets, sort the items\n",
    "\n",
    "4. For the int set, print out the 3rd and 5th highest number\n",
    "\n",
    "5. For the float set, print out the 2nd largest number"
   ]
  },
  {
   "cell_type": "code",
   "execution_count": 2,
   "metadata": {},
   "outputs": [
    {
     "name": "stdout",
     "output_type": "stream",
     "text": [
      "Floats =  [45.5, 78.5, 45.3]\n",
      "---------------------------------------------------------------------\n",
      "Ints =  [54, 52, 96, 87, 45, 68, 78, 98, 21, 65, 14, 52]\n",
      "---------------------------------------------------------------------\n",
      "Strings =  ['Ama', 'Kojo', 'Yhup', 'Kwame', 'Kwesi', 'Roland', 'Nti', 'William', 'Patty', 'Adwoa', 'Pappy', 'Folly', 'Pency']\n",
      "---------------------------------------------------------------------\n",
      "Booleans =  [True, False, True, False]\n"
     ]
    }
   ],
   "source": [
    "pythonlist = ['Ama', 54, 'Kojo', 45.5, 'Yhup', 52, 'Kwame', 96, 'Kwesi', 87,\n",
    "              'Roland',True,'Nti',45,78.5,'William',68,45.3,78,'Patty',\n",
    "              False,98,True,'Adwoa',21,65,'Pappy',14,'Folly',False,52,'Pency']\n",
    "\n",
    "Floats = []\n",
    "Ints = []\n",
    "Strings = []\n",
    "Booleans = []\n",
    "\n",
    "plen = len(pythonlist)\n",
    "\n",
    "for i in range(plen):\n",
    "    if isinstance(pythonlist[i],float):\n",
    "        Floats.append(pythonlist[i])\n",
    "    elif isinstance(pythonlist[i],bool):\n",
    "        Booleans.append(pythonlist[i])\n",
    "    elif isinstance(pythonlist[i],str):\n",
    "        Strings.append(pythonlist[i])\n",
    "    else:\n",
    "        Ints.append(pythonlist[i])\n",
    "print('Floats = ',Floats)\n",
    "print('---------------------------------------------------------------------')\n",
    "print('Ints = ',Ints)\n",
    "print('---------------------------------------------------------------------')\n",
    "print('Strings = ',Strings)\n",
    "print('---------------------------------------------------------------------')\n",
    "print('Booleans = ',Booleans)\n",
    "\n"
   ]
  },
  {
   "cell_type": "code",
   "execution_count": null,
   "metadata": {},
   "outputs": [],
   "source": []
  }
 ],
 "metadata": {
  "kernelspec": {
   "display_name": "Python 3",
   "language": "python",
   "name": "python3"
  },
  "language_info": {
   "codemirror_mode": {
    "name": "ipython",
    "version": 3
   },
   "file_extension": ".py",
   "mimetype": "text/x-python",
   "name": "python",
   "nbconvert_exporter": "python",
   "pygments_lexer": "ipython3",
   "version": "3.8.5"
  }
 },
 "nbformat": 4,
 "nbformat_minor": 2
}
